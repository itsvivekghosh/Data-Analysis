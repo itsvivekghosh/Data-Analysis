{
 "cells": [
  {
   "cell_type": "code",
   "execution_count": 1,
   "metadata": {},
   "outputs": [
    {
     "name": "stderr",
     "output_type": "stream",
     "text": [
      "F:\\Anaconda\\lib\\site-packages\\statsmodels\\tools\\_testing.py:19: FutureWarning: pandas.util.testing is deprecated. Use the functions in the public API at pandas.testing instead.\n",
      "  import pandas.util.testing as tm\n"
     ]
    }
   ],
   "source": [
    "import numpy as np\n",
    "import pandas as pd\n",
    "import matplotlib.pyplot as plt\n",
    "import seaborn as sns\n",
    "%matplotlib inline\n",
    "from sklearn.datasets import fetch_openml\n",
    "mnist = fetch_openml(\"mnist_784\")"
   ]
  },
  {
   "cell_type": "code",
   "execution_count": 2,
   "metadata": {},
   "outputs": [],
   "source": [
    "inputData, y=mnist['data'], mnist['target']\n",
    "inputData = inputData / 255."
   ]
  },
  {
   "cell_type": "code",
   "execution_count": 3,
   "metadata": {},
   "outputs": [],
   "source": [
    "nDigits=10"
   ]
  },
  {
   "cell_type": "code",
   "execution_count": 4,
   "metadata": {},
   "outputs": [
    {
     "data": {
      "text/plain": [
       "(70000, 10)"
      ]
     },
     "execution_count": 4,
     "metadata": {},
     "output_type": "execute_result"
    }
   ],
   "source": [
    "y_OneHot=np.zeros([y.shape[0], nDigits])\n",
    "y_OneHot.shape"
   ]
  },
  {
   "cell_type": "code",
   "execution_count": 5,
   "metadata": {},
   "outputs": [
    {
     "data": {
      "text/plain": [
       "array([0., 0., 0., 0., 0., 1., 0., 0., 0., 0.])"
      ]
     },
     "execution_count": 5,
     "metadata": {},
     "output_type": "execute_result"
    }
   ],
   "source": [
    "for i in range(y.shape[0]):\n",
    "    y_OneHot[i, int(y[i])]=1\n",
    "y_OneHot[0]"
   ]
  },
  {
   "cell_type": "code",
   "execution_count": 6,
   "metadata": {},
   "outputs": [],
   "source": [
    "m=65000\n",
    "m_test=inputData.shape[0] - m\n",
    "\n",
    "y_train=y_OneHot[:m, :]\n",
    "y_test=y_OneHot[m:, :]"
   ]
  },
  {
   "cell_type": "code",
   "execution_count": 7,
   "metadata": {},
   "outputs": [],
   "source": [
    "inputData_train, inputData_test=inputData[:m, :], inputData[m:, :]"
   ]
  },
  {
   "cell_type": "code",
   "execution_count": 8,
   "metadata": {},
   "outputs": [
    {
     "data": {
      "text/plain": [
       "array([0., 0., 0., 1., 0., 0., 0., 0., 0., 0.])"
      ]
     },
     "execution_count": 8,
     "metadata": {},
     "output_type": "execute_result"
    }
   ],
   "source": [
    "y_OneHot[7, :]"
   ]
  },
  {
   "cell_type": "code",
   "execution_count": 9,
   "metadata": {},
   "outputs": [
    {
     "data": {
      "image/png": "[encoded data removed]",
      "text/plain": [
       "<Figure size 432x288 with 1 Axes>"
      ]
     },
     "metadata": {
      "needs_background": "light"
     },
     "output_type": "display_data"
    }
   ],
   "source": [
    "### Show a  random Input\n",
    "\n",
    "i=7\n",
    "plt.imshow(inputData_train[i, :].reshape(28, 28), cmap=plt.cm.binary)\n",
    "plt.show()"
   ]
  },
  {
   "cell_type": "code",
   "execution_count": 10,
   "metadata": {},
   "outputs": [],
   "source": [
    "# Define activation, loss, and their derivatives\n",
    "\n",
    "def sigmoid(x):\n",
    "    return 1 / (1 + np.exp(-x))\n",
    "\n",
    "def sigmoid_derivative(z):\n",
    "    return z * (1-z)\n",
    "\n",
    "def relu (x):\n",
    "    return np.maximum(0,x) # ReLU is very simple\n",
    "\n",
    "def relu_derivative(x):\n",
    "    return 0.5 * (np.sign(x)+1) # ReLU derivative is either zero or 1.\n",
    "\n",
    "def CrossEntropyLoss(y, y_hat):\n",
    "    L_sum = np.sum(np.multiply(y, np.log(y_hat)))\n",
    "    m = y.shape[1]\n",
    "    L = -(1/m) * L_sum\n",
    "\n",
    "    return L\n",
    "\n",
    "def softmax(y):\n",
    "    return np.exp(y) / np.sum(np.exp(y), axis=0)\n",
    "\n",
    "def CE_Softmax_Derivative(output, ideal_output):\n",
    "    return output - ideal_output"
   ]
  },
  {
   "cell_type": "code",
   "execution_count": 11,
   "metadata": {},
   "outputs": [],
   "source": [
    "inputDim = inputData_train.shape[1]\n",
    "nHidden = 128\n",
    "learning_rate = 0.3\n",
    "weight_decay = 0.0001\n",
    "\n",
    "W1 = 0.01*np.random.randn(nHidden, inputDim)\n",
    "b1 = np.zeros((nHidden, 1))\n",
    "W2 = 0.01*np.random.randn(nDigits, nHidden)\n",
    "b2 = np.zeros((nDigits, 1))\n",
    "\n",
    "inputData = inputData_train\n",
    "y = y_train"
   ]
  },
  {
   "cell_type": "code",
   "execution_count": 12,
   "metadata": {},
   "outputs": [
    {
     "name": "stdout",
     "output_type": "stream",
     "text": [
      "Epoch 0 cost:  2.303097988536237\n",
      "Epoch 10 cost:  2.2407575003159557\n",
      "Epoch 20 cost:  1.8319724623358309\n",
      "Epoch 30 cost:  1.140728288496334\n",
      "Epoch 40 cost:  0.8043761179406158\n",
      "Epoch 50 cost:  0.6464094261869331\n",
      "Epoch 60 cost:  0.5587466730965986\n",
      "Epoch 70 cost:  0.5036438971916178\n",
      "Epoch 80 cost:  0.4657830268556765\n",
      "Epoch 90 cost:  0.4381482463791415\n",
      "Epoch 100 cost:  0.4170866967102508\n",
      "Epoch 110 cost:  0.40046334420331753\n",
      "Epoch 120 cost:  0.3869250987575558\n",
      "Epoch 130 cost:  0.37561469062648045\n",
      "Epoch 140 cost:  0.365960907182424\n",
      "Epoch 150 cost:  0.3575643134753434\n",
      "Epoch 160 cost:  0.35014177141323166\n",
      "Epoch 170 cost:  0.3434978674962859\n",
      "Epoch 180 cost:  0.3374864605074586\n",
      "Epoch 190 cost:  0.3319862082124377\n"
     ]
    },
    {
     "data": {
      "text/plain": [
       "<function matplotlib.pyplot.show(*args, **kw)>"
      ]
     },
     "execution_count": 12,
     "metadata": {},
     "output_type": "execute_result"
    },
    {
     "data": {
      "image/png": "[encoded data removed]",
      "text/plain": [
       "<Figure size 432x288 with 1 Axes>"
      ]
     },
     "metadata": {
      "needs_background": "light"
     },
     "output_type": "display_data"
    }
   ],
   "source": [
    "nEpochs = 200\n",
    "costPlot = np.zeros(nEpochs)\n",
    "\n",
    "for i in range(nEpochs):\n",
    "\n",
    "    Z1 = np.matmul(W1,inputData.T) + b1\n",
    "    A1 = relu(Z1)\n",
    "    Z2 = np.matmul(W2,A1) + b2\n",
    "    A2 = softmax(Z2)\n",
    "\n",
    "    cost = CrossEntropyLoss(y.T, A2)\n",
    "    costPlot[i] = cost\n",
    "\n",
    "    dZ2 = CE_Softmax_Derivative(A2,y.T)\n",
    "    dW2 = (1./m) * np.matmul(dZ2, A1.T)\n",
    "    db2 = (1./m) * np.sum(dZ2, axis=1, keepdims=True)\n",
    "\n",
    "    dA1 = np.matmul(W2.T, dZ2)\n",
    "    dZ1 = dA1 * relu_derivative(Z1)\n",
    "    dW1 = (1./m) * np.matmul(dZ1, inputData)\n",
    "    db1 = (1./m) * np.sum(dZ1, axis=1, keepdims=True)\n",
    "\n",
    "    W2 -= learning_rate * dW2 + weight_decay * W2\n",
    "    b2 -= learning_rate * db2\n",
    "    W1 -= learning_rate * dW1 + weight_decay * W1\n",
    "    b1 -= learning_rate * db1\n",
    "    \n",
    "    if (i % 10 == 0):\n",
    "        print(\"Epoch\", i, \"cost: \", cost)\n",
    "    \n",
    "plt.plot(costPlot)\n",
    "plt.xlabel('Epochs')\n",
    "plt.ylabel('Training Loss')\n",
    "plt.show"
   ]
  },
  {
   "cell_type": "code",
   "execution_count": 13,
   "metadata": {},
   "outputs": [],
   "source": [
    "Z1 = np.matmul(W1, inputData_test.T) + b1\n",
    "A1 = relu(Z1)\n",
    "Z2 = np.matmul(W2, A1) + b2\n",
    "\n",
    "predictions = np.argmax(Z2, axis=0)\n",
    "labels = np.argmax(y_test.T, axis=0)"
   ]
  },
  {
   "cell_type": "code",
   "execution_count": 14,
   "metadata": {},
   "outputs": [
    {
     "name": "stdout",
     "output_type": "stream",
     "text": [
      "Actual Value= 3 and Predicted Value= 3\n",
      "Actual Value= 9 and Predicted Value= 4\n",
      "Actual Value= 9 and Predicted Value= 9\n",
      "Actual Value= 8 and Predicted Value= 8\n",
      "Actual Value= 4 and Predicted Value= 4\n",
      "Actual Value= 1 and Predicted Value= 1\n",
      "Actual Value= 0 and Predicted Value= 0\n",
      "Actual Value= 6 and Predicted Value= 6\n",
      "Actual Value= 0 and Predicted Value= 0\n",
      "Actual Value= 9 and Predicted Value= 4\n",
      "Actual Value= 6 and Predicted Value= 6\n",
      "Actual Value= 8 and Predicted Value= 8\n",
      "Actual Value= 6 and Predicted Value= 6\n",
      "Actual Value= 1 and Predicted Value= 1\n",
      "Actual Value= 1 and Predicted Value= 1\n",
      "Actual Value= 9 and Predicted Value= 4\n",
      "Actual Value= 8 and Predicted Value= 8\n",
      "Actual Value= 9 and Predicted Value= 9\n",
      "Actual Value= 2 and Predicted Value= 2\n",
      "Actual Value= 3 and Predicted Value= 3\n"
     ]
    }
   ],
   "source": [
    "for i in range(20):\n",
    "    print(\"Actual Value= {} and Predicted Value= {}\".format(labels[i], predictions[i]))"
   ]
  },
  {
   "cell_type": "code",
   "execution_count": 15,
   "metadata": {},
   "outputs": [
    {
     "name": "stdout",
     "output_type": "stream",
     "text": [
      "[[511   0   7   2   1   4   5   1   3   5]\n",
      " [  0 546   2   0   1   1   0   0   4   0]\n",
      " [  1   0 453  13   1   4   1  10   2   0]\n",
      " [  1   0   2 463   0  18   0   1   4   1]\n",
      " [  0   0   8   0 462   6   6   1   3  17]\n",
      " [  2   1   0  13   0 383   1   0  10  10]\n",
      " [  3   1   6   1   3  10 481   0  11   0]\n",
      " [  1   1   4   3   1   1   0 496   1  11]\n",
      " [  1  15  16  10   4   9   2   0 442   1]\n",
      " [  0   0   4   5   9   0   0   7   5 444]]\n",
      "              precision    recall  f1-score   support\n",
      "\n",
      "           0       0.98      0.95      0.97       539\n",
      "           1       0.97      0.99      0.98       554\n",
      "           2       0.90      0.93      0.92       485\n",
      "           3       0.91      0.94      0.93       490\n",
      "           4       0.96      0.92      0.94       503\n",
      "           5       0.88      0.91      0.89       420\n",
      "           6       0.97      0.93      0.95       516\n",
      "           7       0.96      0.96      0.96       519\n",
      "           8       0.91      0.88      0.90       500\n",
      "           9       0.91      0.94      0.92       474\n",
      "\n",
      "    accuracy                           0.94      5000\n",
      "   macro avg       0.93      0.94      0.93      5000\n",
      "weighted avg       0.94      0.94      0.94      5000\n",
      "\n",
      "Accuracy Score:  0.9362\n"
     ]
    }
   ],
   "source": [
    "from sklearn.metrics import classification_report, confusion_matrix, accuracy_score\n",
    "print(confusion_matrix(predictions, labels))\n",
    "print(classification_report(predictions, labels))\n",
    "print(\"Accuracy Score: \", accuracy_score(predictions, labels))"
   ]
  },
  {
   "cell_type": "code",
   "execution_count": 16,
   "metadata": {},
   "outputs": [
    {
     "data": {
      "image/png": "[encoded data removed]",
      "text/plain": [
       "<Figure size 720x432 with 2 Axes>"
      ]
     },
     "metadata": {
      "needs_background": "light"
     },
     "output_type": "display_data"
    }
   ],
   "source": [
    "cm=confusion_matrix(predictions, labels)\n",
    "plt.figure(figsize=(10, 6))\n",
    "fig=sns.heatmap(cm, annot=True)"
   ]
  },
  {
   "cell_type": "code",
   "execution_count": null,
   "metadata": {},
   "outputs": [],
   "source": []
  },
  {
   "cell_type": "code",
   "execution_count": null,
   "metadata": {},
   "outputs": [],
   "source": []
  },
  {
   "cell_type": "code",
   "execution_count": null,
   "metadata": {},
   "outputs": [],
   "source": []
  }
 ],
 "metadata": {
  "kernelspec": {
   "display_name": "Python 3",
   "language": "python",
   "name": "python3"
  },
  "language_info": {
   "codemirror_mode": {
    "name": "ipython",
    "version": 3
   },
   "file_extension": ".py",
   "mimetype": "text/x-python",
   "name": "python",
   "nbconvert_exporter": "python",
   "pygments_lexer": "ipython3",
   "version": "3.7.4"
  }
 },
 "nbformat": 4,
 "nbformat_minor": 2
}
